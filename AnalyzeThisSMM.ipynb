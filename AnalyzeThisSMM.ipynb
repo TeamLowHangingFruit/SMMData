{
 "cells": [
  {
   "cell_type": "markdown",
   "metadata": {},
   "source": [
    "# Summer Challenge\n",
    "### Team: LowHangingFruit"
   ]
  },
  {
   "cell_type": "markdown",
   "metadata": {},
   "source": [
    "Programs: Python2 & R \n",
    "\n",
    "Purpose: Prep file for merging datasets and formating variables"
   ]
  },
  {
   "cell_type": "code",
   "execution_count": 1,
   "metadata": {
    "collapsed": false
   },
   "outputs": [],
   "source": [
    "# Loading rpy2 package to Jupyter magic system\n",
    "# Note: ryp2 is difficult to install on windows, \n",
    "# virtual box might be a better alternative if that is your platform\n",
    "%load_ext rpy2.ipython\n",
    "# Filter dpyr warnings\n",
    "import warnings\n",
    "warnings.filterwarnings('ignore')"
   ]
  },
  {
   "cell_type": "markdown",
   "metadata": {},
   "source": [
    "You can use `%lsmagic` to list the availible one line `%` and cell `%%` magic commands. After running `%load_ext rpy2.ipython`, this list should include `%R`. To read the help documentation on the magic system for Jupyter Notebooks, run the `%magic` command."
   ]
  },
  {
   "cell_type": "code",
   "execution_count": 2,
   "metadata": {
    "collapsed": false
   },
   "outputs": [
    {
     "data": {
      "application/json": {
       "cell": {
        "!": "OSMagics",
        "HTML": "Other",
        "R": "RMagics",
        "SVG": "Other",
        "bash": "Other",
        "capture": "ExecutionMagics",
        "debug": "ExecutionMagics",
        "file": "Other",
        "html": "DisplayMagics",
        "javascript": "DisplayMagics",
        "latex": "DisplayMagics",
        "perl": "Other",
        "prun": "ExecutionMagics",
        "pypy": "Other",
        "python": "Other",
        "python2": "Other",
        "python3": "Other",
        "ruby": "Other",
        "script": "ScriptMagics",
        "sh": "Other",
        "svg": "DisplayMagics",
        "sx": "OSMagics",
        "system": "OSMagics",
        "time": "ExecutionMagics",
        "timeit": "ExecutionMagics",
        "writefile": "OSMagics"
       },
       "line": {
        "R": "RMagics",
        "Rdevice": "RMagics",
        "Rget": "RMagics",
        "Rpull": "RMagics",
        "Rpush": "RMagics",
        "alias": "OSMagics",
        "alias_magic": "BasicMagics",
        "autocall": "AutoMagics",
        "automagic": "AutoMagics",
        "autosave": "KernelMagics",
        "bookmark": "OSMagics",
        "cat": "Other",
        "cd": "OSMagics",
        "clear": "KernelMagics",
        "colors": "BasicMagics",
        "config": "ConfigMagics",
        "connect_info": "KernelMagics",
        "cp": "Other",
        "debug": "ExecutionMagics",
        "dhist": "OSMagics",
        "dirs": "OSMagics",
        "doctest_mode": "BasicMagics",
        "ed": "Other",
        "edit": "KernelMagics",
        "env": "OSMagics",
        "gui": "BasicMagics",
        "hist": "Other",
        "history": "HistoryMagics",
        "install_default_config": "DeprecatedMagics",
        "install_ext": "ExtensionMagics",
        "install_profiles": "DeprecatedMagics",
        "killbgscripts": "ScriptMagics",
        "ldir": "Other",
        "less": "KernelMagics",
        "lf": "Other",
        "lk": "Other",
        "ll": "Other",
        "load": "CodeMagics",
        "load_ext": "ExtensionMagics",
        "loadpy": "CodeMagics",
        "logoff": "LoggingMagics",
        "logon": "LoggingMagics",
        "logstart": "LoggingMagics",
        "logstate": "LoggingMagics",
        "logstop": "LoggingMagics",
        "ls": "Other",
        "lsmagic": "BasicMagics",
        "lx": "Other",
        "macro": "ExecutionMagics",
        "magic": "BasicMagics",
        "man": "KernelMagics",
        "matplotlib": "PylabMagics",
        "mkdir": "Other",
        "more": "KernelMagics",
        "mv": "Other",
        "notebook": "BasicMagics",
        "page": "BasicMagics",
        "pastebin": "CodeMagics",
        "pdb": "ExecutionMagics",
        "pdef": "NamespaceMagics",
        "pdoc": "NamespaceMagics",
        "pfile": "NamespaceMagics",
        "pinfo": "NamespaceMagics",
        "pinfo2": "NamespaceMagics",
        "popd": "OSMagics",
        "pprint": "BasicMagics",
        "precision": "BasicMagics",
        "profile": "BasicMagics",
        "prun": "ExecutionMagics",
        "psearch": "NamespaceMagics",
        "psource": "NamespaceMagics",
        "pushd": "OSMagics",
        "pwd": "OSMagics",
        "pycat": "OSMagics",
        "pylab": "PylabMagics",
        "qtconsole": "KernelMagics",
        "quickref": "BasicMagics",
        "recall": "HistoryMagics",
        "rehashx": "OSMagics",
        "reload_ext": "ExtensionMagics",
        "rep": "Other",
        "rerun": "HistoryMagics",
        "reset": "NamespaceMagics",
        "reset_selective": "NamespaceMagics",
        "rm": "Other",
        "rmdir": "Other",
        "run": "ExecutionMagics",
        "save": "CodeMagics",
        "sc": "OSMagics",
        "set_env": "OSMagics",
        "store": "StoreMagics",
        "sx": "OSMagics",
        "system": "OSMagics",
        "tb": "ExecutionMagics",
        "time": "ExecutionMagics",
        "timeit": "ExecutionMagics",
        "unalias": "OSMagics",
        "unload_ext": "ExtensionMagics",
        "who": "NamespaceMagics",
        "who_ls": "NamespaceMagics",
        "whos": "NamespaceMagics",
        "xdel": "NamespaceMagics",
        "xmode": "BasicMagics"
       }
      },
      "text/plain": [
       "Available line magics:\n",
       "%R  %Rdevice  %Rget  %Rpull  %Rpush  %alias  %alias_magic  %autocall  %automagic  %autosave  %bookmark  %cat  %cd  %clear  %colors  %config  %connect_info  %cp  %debug  %dhist  %dirs  %doctest_mode  %ed  %edit  %env  %gui  %hist  %history  %install_default_config  %install_ext  %install_profiles  %killbgscripts  %ldir  %less  %lf  %lk  %ll  %load  %load_ext  %loadpy  %logoff  %logon  %logstart  %logstate  %logstop  %ls  %lsmagic  %lx  %macro  %magic  %man  %matplotlib  %mkdir  %more  %mv  %notebook  %page  %pastebin  %pdb  %pdef  %pdoc  %pfile  %pinfo  %pinfo2  %popd  %pprint  %precision  %profile  %prun  %psearch  %psource  %pushd  %pwd  %pycat  %pylab  %qtconsole  %quickref  %recall  %rehashx  %reload_ext  %rep  %rerun  %reset  %reset_selective  %rm  %rmdir  %run  %save  %sc  %set_env  %store  %sx  %system  %tb  %time  %timeit  %unalias  %unload_ext  %who  %who_ls  %whos  %xdel  %xmode\n",
       "\n",
       "Available cell magics:\n",
       "%%!  %%HTML  %%R  %%SVG  %%bash  %%capture  %%debug  %%file  %%html  %%javascript  %%latex  %%perl  %%prun  %%pypy  %%python  %%python2  %%python3  %%ruby  %%script  %%sh  %%svg  %%sx  %%system  %%time  %%timeit  %%writefile\n",
       "\n",
       "Automagic is ON, % prefix IS NOT needed for line magics."
      ]
     },
     "execution_count": 2,
     "metadata": {},
     "output_type": "execute_result"
    }
   ],
   "source": [
    "%lsmagic"
   ]
  },
  {
   "cell_type": "code",
   "execution_count": 3,
   "metadata": {
    "collapsed": false
   },
   "outputs": [],
   "source": [
    "import openpyxl as px\n",
    "import numpy as np\n",
    "import pandas as pd"
   ]
  },
  {
   "cell_type": "code",
   "execution_count": 4,
   "metadata": {
    "collapsed": false
   },
   "outputs": [],
   "source": [
    "AD = pd.read_excel(open('SMM Competitor Workbook 5.25.16.xlsx','rb'), \n",
    "                       sheetname='Analytics Dataset', index_col = 'ID Number')\n",
    "ADkeys = set(AD.index.values)\n",
    "MemLev = pd.read_excel(open('SMM Competitor Workbook 5.25.16.xlsx','rb'), \n",
    "                       sheetname='Mbrshp Level', index_col = 'ID Number')\n",
    "MLkeys = set(MemLev.index.values)\n",
    "PayMeth = pd.read_excel(open('SMM Competitor Workbook 5.25.16.xlsx','rb'), \n",
    "                       sheetname='Pmt Mthd', index_col = 'ID Number')\n",
    "PMkeys = set(PayMeth.index.values)\n",
    "SaleChan = pd.read_excel(open('SMM Competitor Workbook 5.25.16.xlsx','rb'), \n",
    "                       sheetname='Sales Channel', index_col = 'ID Number')\n",
    "SCkeys = set(SaleChan.index.values)\n",
    "Off1stRN = pd.read_excel(open('SMM Competitor Workbook 5.25.16.xlsx','rb'), \n",
    "                       sheetname='Offer on 1st Ren Notice', index_col = 'ID Number')\n",
    "O1RNkeys = set(Off1stRN.index.values)\n",
    "EmInd = pd.read_excel(open('SMM Competitor Workbook 5.25.16.xlsx','rb'), \n",
    "                       sheetname='Email Indicators', index_col = 'ID Number')\n",
    "EIkeys = set(EmInd.index.values)\n",
    "EmOpt = pd.read_excel(open('SMM Competitor Workbook 5.25.16.xlsx','rb'), \n",
    "                       sheetname='EMail Options', index_col = 'ID Number')\n",
    "EOkeys = set(EmOpt.index.values)\n",
    "Demo1 = pd.read_excel(open('SMM Competitor Workbook 5.25.16.xlsx','rb'), \n",
    "                       sheetname='Demo_1', index_col = 'ID Number')\n",
    "D1keys = set(Demo1.index.values)\n",
    "ZipCode = pd.read_excel(open('SMM Competitor Workbook 5.25.16.xlsx','rb'), \n",
    "                       sheetname='Zip Code', index_col = 'ID Number')\n",
    "ZCkeys = set(ZipCode.index.values)\n",
    "KeyPeople = pd.read_excel(open('SMM Competitor Workbook 5.25.16.xlsx','rb'), \n",
    "                       sheetname='Key people on Membership', index_col = 'ID Number')\n",
    "KPkeys = set(KeyPeople.index.values)\n",
    "NumVisits = pd.read_excel(open('SMM Competitor Workbook 5.25.16.xlsx','rb'), \n",
    "                       sheetname='Num Visits', index_col = 'ID Number')\n",
    "NVkeys = set(NumVisits.index.values)\n",
    "CSIs = pd.read_excel(open('SMM Competitor Workbook 5.25.16.xlsx','rb'), \n",
    "                       sheetname='CSIs', index_col = 'ID Number')\n",
    "CSkeys = set(CSIs.index.values)\n",
    "Comm = pd.read_excel(open('SMM Competitor Workbook 5.25.16.xlsx','rb'), \n",
    "                       sheetname='Communication', index_col = 'ID Number')\n",
    "Comkeys = set(Comm.index.values)"
   ]
  },
  {
   "cell_type": "code",
   "execution_count": 5,
   "metadata": {
    "collapsed": false
   },
   "outputs": [
    {
     "name": "stdout",
     "output_type": "stream",
     "text": [
      "New keys:  []\n",
      "New keys:  [6993112]\n",
      "New keys:  [6993112]\n",
      "New keys:  [6993112]\n",
      "New keys:  []\n",
      "New keys:  []\n",
      "New keys:  []\n",
      "New keys:  []\n",
      "New keys:  []\n",
      "New keys:  [6993112]\n",
      "New keys:  [6871452]\n",
      "New keys:  [u'Grand Total', 6993112]\n"
     ]
    }
   ],
   "source": [
    "#Check keys\n",
    "keySet = [MLkeys, PMkeys, SCkeys,O1RNkeys,EIkeys,EOkeys,D1keys,ZCkeys,KPkeys,\n",
    "              NVkeys,CSkeys,Comkeys]\n",
    "for kS in keySet:\n",
    "    print \"New keys: \", [k for k in kS if k not in ADkeys]"
   ]
  },
  {
   "cell_type": "markdown",
   "metadata": {},
   "source": [
    "# Missing members\n",
    "\n",
    "There are two member ID numbers in the auxiliary data sheets which do not appear in the Analytics Dataet sheet.\n",
    "1. 6993112\n",
    "1. 6871452\n",
    "\n",
    "Also, the Communication sheet has a row labeled 'Grand Total' which should be removed\n"
   ]
  },
  {
   "cell_type": "code",
   "execution_count": 6,
   "metadata": {
    "collapsed": true
   },
   "outputs": [],
   "source": [
    "Comm.drop('Grand Total',inplace=True)"
   ]
  },
  {
   "cell_type": "code",
   "execution_count": 7,
   "metadata": {
    "collapsed": false
   },
   "outputs": [
    {
     "name": "stdout",
     "output_type": "stream",
     "text": [
      "New keys:  [6993112]\n"
     ]
    }
   ],
   "source": [
    "Comkeys = set(Comm.index.values)\n",
    "print \"New keys: \", [k for k in Comkeys if k not in ADkeys]"
   ]
  },
  {
   "cell_type": "markdown",
   "metadata": {},
   "source": [
    "# Merging sheets\n"
   ]
  },
  {
   "cell_type": "code",
   "execution_count": 8,
   "metadata": {
    "collapsed": false
   },
   "outputs": [],
   "source": [
    "badIDs = [6871452,6993112]\n",
    "demos = ['Demo1_B', 'Demo1_C', 'Demo1_D','Demo1_E', 'Demo1_F', 'Demo1_G',\n",
    "         'Demo1_H', 'Demo1_I', 'Demo1_J','Demo1_K', 'Demo1_L', 'Demo1_M']\n",
    "#Add new columns to AD\n",
    "\n",
    "for id,row in AD.iterrows():\n",
    "    if id in O1RNkeys and pd.notnull(Off1stRN.ix[id,'Offer on 1st Ren Notice']):\n",
    "        AD.ix[id,'Offer on 1st Ren Notice'] = Off1stRN.ix[id,'Offer on 1st Ren Notice']\n",
    "    for d in demos:\n",
    "        if id in D1keys and pd.notnull(Demo1.ix[id,d]):\n",
    "            AD.ix[id,d] = Demo1.ix[id,d]\n",
    "    if id in ZCkeys and pd.notnull(ZipCode.ix[id,'Zip Code']):\n",
    "        AD.ix[id,'Zip Code'] = ZipCode.ix[id,'Zip Code']\n",
    "    if id in NVkeys and pd.notnull(NumVisits.ix[id,'Number of Visits']):\n",
    "        AD.ix[id,'Number of Visits'] = NumVisits.ix[id,'Number of Visits']"
   ]
  },
  {
   "cell_type": "code",
   "execution_count": 9,
   "metadata": {
    "collapsed": false
   },
   "outputs": [
    {
     "name": "stdout",
     "output_type": "stream",
     "text": [
      "Members in Train: 8570  Members in Test:  978\n"
     ]
    }
   ],
   "source": [
    "#Split into Test and train sets\n",
    "Train = AD[AD['Test or Train?'] == 'Training']\n",
    "Test = AD[AD['Test or Train?'] == 'Test']\n",
    "Train.to_csv('Train.csv')\n",
    "Test.to_csv('Test.csv')\n",
    "print \"Members in Train:\", len(Train), \" Members in Test: \",len(Test)"
   ]
  },
  {
   "cell_type": "code",
   "execution_count": 14,
   "metadata": {
    "collapsed": false
   },
   "outputs": [
    {
     "data": {
      "text/plain": [
       "NULL\n"
      ]
     },
     "metadata": {},
     "output_type": "display_data"
    }
   ],
   "source": [
    "%%R -i Train \n",
    "# When using 'cell' magic (%%), the magic statement needs to be first.\n",
    "# Looking at a summary of the data within R\n",
    "head(Train)"
   ]
  },
  {
   "cell_type": "code",
   "execution_count": 11,
   "metadata": {
    "collapsed": false
   },
   "outputs": [],
   "source": [
    "import matplotlib.pyplot as plt"
   ]
  },
  {
   "cell_type": "code",
   "execution_count": 12,
   "metadata": {
    "collapsed": false
   },
   "outputs": [],
   "source": [
    "%matplotlib inline"
   ]
  },
  {
   "cell_type": "code",
   "execution_count": 13,
   "metadata": {
    "collapsed": false
   },
   "outputs": [
    {
     "data": {
      "text/plain": [
       "[<matplotlib.lines.Line2D at 0x1192c5e50>]"
      ]
     },
     "execution_count": 13,
     "metadata": {},
     "output_type": "execute_result"
    },
    {
     "data": {
      "image/png": "[encoded data removed]",
      "text/plain": [
       "<matplotlib.figure.Figure at 0x118427050>"
      ]
     },
     "metadata": {},
     "output_type": "display_data"
    }
   ],
   "source": [
    "fig = plt.figure()\n",
    "ax1 = fig.add_subplot (211)\n",
    "ax2 = fig.add_subplot (212)\n",
    "\n",
    "ax1.plot ([0, 1, 2], [0, 1, 4])\n",
    "ax2.plot ([0, 1, 2], [4, 1, 0])"
   ]
  },
  {
   "cell_type": "code",
   "execution_count": null,
   "metadata": {
    "collapsed": true
   },
   "outputs": [],
   "source": [
    "plt.close (\"all\")"
   ]
  },
  {
   "cell_type": "code",
   "execution_count": null,
   "metadata": {
    "collapsed": true
   },
   "outputs": [],
   "source": []
  }
 ],
 "metadata": {
  "kernelspec": {
   "display_name": "Python 2",
   "language": "python",
   "name": "python2"
  },
  "language_info": {
   "codemirror_mode": {
    "name": "ipython",
    "version": 2
   },
   "file_extension": ".py",
   "mimetype": "text/x-python",
   "name": "python",
   "nbconvert_exporter": "python",
   "pygments_lexer": "ipython2",
   "version": "2.7.11"
  }
 },
 "nbformat": 4,
 "nbformat_minor": 0
}
