{
 "cells": [
  {
   "cell_type": "code",
   "execution_count": 17,
   "metadata": {
    "collapsed": false
   },
   "outputs": [],
   "source": [
    "import openpyxl as px\n",
    "import numpy as np\n",
    "import pandas as pd"
   ]
  },
  {
   "cell_type": "code",
   "execution_count": 30,
   "metadata": {
    "collapsed": false
   },
   "outputs": [],
   "source": [
    "AD = pd.read_excel(open('SMM Competitor Workbook 5.25.16.xlsx','rb'), \n",
    "                       sheetname='Analytics Dataset', index_col = 'ID Number')\n",
    "ADkeys = set(AD.index.values)\n",
    "MemLev = pd.read_excel(open('SMM Competitor Workbook 5.25.16.xlsx','rb'), \n",
    "                       sheetname='Mbrshp Level', index_col = 'ID Number')\n",
    "MLkeys = set(MemLev.index.values)\n",
    "PayMeth = pd.read_excel(open('SMM Competitor Workbook 5.25.16.xlsx','rb'), \n",
    "                       sheetname='Pmt Mthd', index_col = 'ID Number')\n",
    "PMkeys = set(PayMeth.index.values)\n",
    "SaleChan = pd.read_excel(open('SMM Competitor Workbook 5.25.16.xlsx','rb'), \n",
    "                       sheetname='Sales Channel', index_col = 'ID Number')\n",
    "SCkeys = set(SaleChan.index.values)\n",
    "Off1stRN = pd.read_excel(open('SMM Competitor Workbook 5.25.16.xlsx','rb'), \n",
    "                       sheetname='Offer on 1st Ren Notice', index_col = 'ID Number')\n",
    "O1RNkeys = set(Off1stRN.index.values)\n",
    "EmInd = pd.read_excel(open('SMM Competitor Workbook 5.25.16.xlsx','rb'), \n",
    "                       sheetname='Email Indicators', index_col = 'ID Number')\n",
    "EIkeys = set(EmInd.index.values)\n",
    "EmOpt = pd.read_excel(open('SMM Competitor Workbook 5.25.16.xlsx','rb'), \n",
    "                       sheetname='EMail Options', index_col = 'ID Number')\n",
    "EOkeys = set(EmOpt.index.values)\n",
    "Demo1 = pd.read_excel(open('SMM Competitor Workbook 5.25.16.xlsx','rb'), \n",
    "                       sheetname='Demo_1', index_col = 'ID Number')\n",
    "D1keys = set(Demo1.index.values)\n",
    "ZipCode = pd.read_excel(open('SMM Competitor Workbook 5.25.16.xlsx','rb'), \n",
    "                       sheetname='Zip Code', index_col = 'ID Number')\n",
    "ZCkeys = set(ZipCode.index.values)\n",
    "KeyPeople = pd.read_excel(open('SMM Competitor Workbook 5.25.16.xlsx','rb'), \n",
    "                       sheetname='Key people on Membership', index_col = 'ID Number')\n",
    "KPkeys = set(KeyPeople.index.values)\n",
    "NumVisits = pd.read_excel(open('SMM Competitor Workbook 5.25.16.xlsx','rb'), \n",
    "                       sheetname='Num Visits', index_col = 'ID Number')\n",
    "NVkeys = set(NumVisits.index.values)\n",
    "CSIs = pd.read_excel(open('SMM Competitor Workbook 5.25.16.xlsx','rb'), \n",
    "                       sheetname='CSIs', index_col = 'ID Number')\n",
    "CSkeys = set(CSIs.index.values)\n",
    "Comm = pd.read_excel(open('SMM Competitor Workbook 5.25.16.xlsx','rb'), \n",
    "                       sheetname='Communication', index_col = 'ID Number')\n",
    "Comkeys = set(Comm.index.values)"
   ]
  },
  {
   "cell_type": "code",
   "execution_count": 44,
   "metadata": {
    "collapsed": false
   },
   "outputs": [
    {
     "name": "stdout",
     "output_type": "stream",
     "text": [
      " New keys:  []\n",
      "New keys:  [6993112]\n",
      "New keys:  [6993112]\n",
      "New keys:  [6993112]\n",
      "New keys:  []\n",
      "New keys:  []\n",
      "New keys:  []\n",
      "New keys:  []\n",
      "New keys:  []\n",
      "New keys:  [6993112]\n",
      "New keys:  [6871452]\n",
      "New keys:  [u'Grand Total', 6993112]\n"
     ]
    }
   ],
   "source": [
    "#Check keys\n",
    "keySet = [MLkeys, PMkeys, SCkeys,O1RNkeys,EIkeys,EOkeys,D1keys,ZCkeys,KPkeys,\n",
    "              NVkeys,CSkeys,Comkeys]\n",
    "for kS in keySet:\n",
    "    print \"New keys: \", [k for k in kS if k not in ADkeys]\n"
   ]
  },
  {
   "cell_type": "markdown",
   "metadata": {},
   "source": [
    "# Missing members\n",
    "\n",
    "There are two member ID numbers in the auxiliary data sheets which do not appear in the Analytics Dataet sheet.\n",
    "1. 6993112\n",
    "1. 6871452\n",
    "\n",
    "Also, the Communication sheet has a row labeled 'Grand Total' which should be removed\n"
   ]
  },
  {
   "cell_type": "code",
   "execution_count": null,
   "metadata": {
    "collapsed": true
   },
   "outputs": [],
   "source": [
    "Comm.drop('Grand Total',inplace=True)"
   ]
  },
  {
   "cell_type": "code",
   "execution_count": 48,
   "metadata": {
    "collapsed": false
   },
   "outputs": [
    {
     "name": "stdout",
     "output_type": "stream",
     "text": [
      "New keys:  [6993112]\n"
     ]
    }
   ],
   "source": [
    "Comkeys = set(Comm.index.values)\n",
    "print \"New keys: \", [k for k in Comkeys if k not in ADkeys]"
   ]
  },
  {
   "cell_type": "markdown",
   "metadata": {},
   "source": [
    "# Merging sheets\n"
   ]
  },
  {
   "cell_type": "code",
   "execution_count": 52,
   "metadata": {
    "collapsed": false
   },
   "outputs": [],
   "source": [
    "badIDs = [6871452,6993112]\n",
    "demos = ['Demo1_B', 'Demo1_C', 'Demo1_D','Demo1_E', 'Demo1_F', 'Demo1_G',\n",
    "         'Demo1_H', 'Demo1_I', 'Demo1_J','Demo1_K', 'Demo1_L', 'Demo1_M']\n",
    "#Add new columns to AD\n",
    "\n",
    "for id,row in AD.iterrows():\n",
    "    if id in O1RNkeys and pd.notnull(Off1stRN.ix[id,'Offer on 1st Ren Notice']):\n",
    "        AD.ix[id,'Offer on 1st Ren Notice'] = Off1stRN.ix[id,'Offer on 1st Ren Notice']\n",
    "    for d in demos:\n",
    "        if id in D1keys and pd.notnull(Demo1.ix[id,d]):\n",
    "            AD.ix[id,d] = Demo1.ix[id,d]\n",
    "    if id in ZCkeys and pd.notnull(ZipCode.ix[id,'Zip Code']):\n",
    "        AD.ix[id,'Zip Code'] = ZipCode.ix[id,'Zip Code']\n",
    "    if id in NVkeys and pd.notnull(NumVisits.ix[id,'Number of Visits']):\n",
    "        AD.ix[id,'Number of Visits'] = NumVisits.ix[id,'Number of Visits']    "
   ]
  },
  {
   "cell_type": "code",
   "execution_count": 57,
   "metadata": {
    "collapsed": false
   },
   "outputs": [
    {
     "name": "stdout",
     "output_type": "stream",
     "text": [
      "Members in Train: 8570  Members in Test:  978\n"
     ]
    }
   ],
   "source": [
    "#Split into Test and train sets\n",
    "Train=AD[AD['Test or Train?'] == 'Training']\n",
    "Test = AD[AD['Test or Train?'] == 'Test']\n",
    "Train.to_csv('Train.csv')\n",
    "Test.to_csv('Test.csv')\n",
    "print \"Members in Train:\", len(Train), \" Members in Test: \",len(Test)"
   ]
  },
  {
   "cell_type": "code",
   "execution_count": 11,
   "metadata": {
    "collapsed": false
   },
   "outputs": [],
   "source": [
    "import matplotlib.pyplot as plt"
   ]
  },
  {
   "cell_type": "code",
   "execution_count": 14,
   "metadata": {
    "collapsed": false
   },
   "outputs": [
    {
     "name": "stdout",
     "output_type": "stream",
     "text": [
      "Using matplotlib backend: Qt4Agg\n"
     ]
    }
   ],
   "source": [
    "%matplotlib"
   ]
  },
  {
   "cell_type": "code",
   "execution_count": 15,
   "metadata": {
    "collapsed": false
   },
   "outputs": [
    {
     "data": {
      "text/plain": [
       "[<matplotlib.lines.Line2D at 0xdf18438>]"
      ]
     },
     "execution_count": 15,
     "metadata": {},
     "output_type": "execute_result"
    }
   ],
   "source": [
    "fig = plt.figure()\n",
    "ax1 = fig.add_subplot (211)\n",
    "ax2 = fig.add_subplot (212)\n",
    "\n",
    "ax1.plot ([0, 1, 2], [0, 1, 4])\n",
    "ax2.plot ([0, 1, 2], [4, 1, 0])"
   ]
  },
  {
   "cell_type": "code",
   "execution_count": 16,
   "metadata": {
    "collapsed": true
   },
   "outputs": [],
   "source": [
    "plt.close (\"all\")"
   ]
  },
  {
   "cell_type": "code",
   "execution_count": null,
   "metadata": {
    "collapsed": true
   },
   "outputs": [],
   "source": []
  }
 ],
 "metadata": {
  "kernelspec": {
   "display_name": "Python 2",
   "language": "python",
   "name": "python2"
  },
  "language_info": {
   "codemirror_mode": {
    "name": "ipython",
    "version": 2
   },
   "file_extension": ".py",
   "mimetype": "text/x-python",
   "name": "python",
   "nbconvert_exporter": "python",
   "pygments_lexer": "ipython2",
   "version": "2.7.11"
  }
 },
 "nbformat": 4,
 "nbformat_minor": 0
}
